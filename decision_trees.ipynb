{
  "nbformat": 4,
  "nbformat_minor": 0,
  "metadata": {
    "colab": {
      "provenance": [],
      "authorship_tag": "ABX9TyP1AvQtJNhSN41mQmZiePDv",
      "include_colab_link": true
    },
    "kernelspec": {
      "name": "python3",
      "display_name": "Python 3"
    },
    "language_info": {
      "name": "python"
    }
  },
  "cells": [
    {
      "cell_type": "markdown",
      "metadata": {
        "id": "view-in-github",
        "colab_type": "text"
      },
      "source": [
        "<a href=\"https://colab.research.google.com/github/theperiperi/Machine-Learning-Sem-IV/blob/main/decision_trees.ipynb\" target=\"_parent\"><img src=\"https://colab.research.google.com/assets/colab-badge.svg\" alt=\"Open In Colab\"/></a>"
      ]
    },
    {
      "cell_type": "markdown",
      "source": [
        "# funtion based decision tree"
      ],
      "metadata": {
        "id": "CDbFqZBY1CGy"
      }
    },
    {
      "cell_type": "code",
      "execution_count": null,
      "metadata": {
        "colab": {
          "base_uri": "https://localhost:8080/"
        },
        "id": "vQ7As7baZow2",
        "outputId": "1b657cad-fe3e-428e-fa29-2a3bf5f44239"
      },
      "outputs": [
        {
          "output_type": "stream",
          "name": "stdout",
          "text": [
            "Accuracy: 1.0\n"
          ]
        }
      ],
      "source": [
        "# Import necessary libraries\n",
        "from sklearn.datasets import load_iris\n",
        "from sklearn.model_selection import train_test_split\n",
        "from sklearn.tree import DecisionTreeClassifier\n",
        "from sklearn.metrics import accuracy_score\n",
        "\n",
        "# Load the Iris dataset (a built-in dataset in scikit-learn)\n",
        "iris = load_iris()\n",
        "X = iris.data\n",
        "y = iris.target\n",
        "\n",
        "# Split the dataset into training and testing sets\n",
        "X_train, X_test, y_train, y_test = train_test_split(X, y, test_size=0.2, random_state=42)\n",
        "\n",
        "# Create a decision tree classifier\n",
        "clf = DecisionTreeClassifier()\n",
        "\n",
        "# Train the classifier on the training data\n",
        "clf.fit(X_train, y_train)\n",
        "\n",
        "# Make predictions on the test data\n",
        "y_pred = clf.predict(X_test)\n",
        "\n",
        "# Evaluate the accuracy of the classifier\n",
        "accuracy = accuracy_score(y_test, y_pred)\n",
        "print(f\"Accuracy: {accuracy}\")\n"
      ]
    },
    {
      "cell_type": "markdown",
      "source": [
        "# mathematical decision tree"
      ],
      "metadata": {
        "id": "oaks_Gq11Jw9"
      }
    },
    {
      "cell_type": "code",
      "source": [
        "import numpy as np\n",
        "\n",
        "class Node:\n",
        "    def __init__(self, feature=None, threshold=None, left=None, right=None, value=None):\n",
        "        self.feature = feature        # Index of feature to split on\n",
        "        self.threshold = threshold    # Threshold value for the feature\n",
        "        self.left = left              # Left subtree\n",
        "        self.right = right            # Right subtree\n",
        "        self.value = value            # Class label (for leaf nodes)\n",
        "\n",
        "def entropy(y):\n",
        "    # Calculate entropy of a set\n",
        "    unique_classes, counts = np.unique(y, return_counts=True)\n",
        "    probabilities = counts / len(y)\n",
        "    return -np.sum(probabilities * np.log2(probabilities + 1e-10))\n",
        "\n",
        "def information_gain(X, y, feature, threshold):\n",
        "    # Calculate information gain for a split\n",
        "    left_mask = X[:, feature] <= threshold\n",
        "    right_mask = ~left_mask\n",
        "    left_entropy = entropy(y[left_mask])\n",
        "    right_entropy = entropy(y[right_mask])\n",
        "    total_entropy = entropy(y)\n",
        "    gain = total_entropy - (left_entropy * np.sum(left_mask) / len(y) + right_entropy * np.sum(right_mask) / len(y))\n",
        "    return gain\n",
        "\n",
        "def find_best_split(X, y):\n",
        "    # Find the best feature and threshold to split on\n",
        "    best_gain = 0\n",
        "    best_feature = None\n",
        "    best_threshold = None\n",
        "\n",
        "    for feature in range(X.shape[1]):\n",
        "        thresholds = np.unique(X[:, feature])\n",
        "        for threshold in thresholds:\n",
        "            gain = information_gain(X, y, feature, threshold)\n",
        "            if gain > best_gain:\n",
        "                best_gain = gain\n",
        "                best_feature = feature\n",
        "                best_threshold = threshold\n",
        "\n",
        "    return best_feature, best_threshold\n",
        "\n",
        "def build_decision_tree(X, y, depth=0, max_depth=None):\n",
        "    # Recursively build the decision tree\n",
        "    if depth == max_depth or len(np.unique(y)) == 1:\n",
        "        # If max depth is reached or all instances have the same class, create a leaf node\n",
        "        return Node(value=np.argmax(np.bincount(y)))\n",
        "\n",
        "    feature, threshold = find_best_split(X, y)\n",
        "\n",
        "    if feature is None:\n",
        "        # If no split improves information gain, create a leaf node\n",
        "        return Node(value=np.argmax(np.bincount(y)))\n",
        "\n",
        "    left_mask = X[:, feature] <= threshold\n",
        "    right_mask = ~left_mask\n",
        "\n",
        "    left_subtree = build_decision_tree(X[left_mask], y[left_mask], depth + 1, max_depth)\n",
        "    right_subtree = build_decision_tree(X[right_mask], y[right_mask], depth + 1, max_depth)\n",
        "\n",
        "    return Node(feature=feature, threshold=threshold, left=left_subtree, right=right_subtree)\n",
        "\n",
        "def predict_tree(node, instance):\n",
        "    # Recursively traverse the tree to make predictions\n",
        "    if node.value is not None:\n",
        "        return node.value\n",
        "\n",
        "    if instance[node.feature] <= node.threshold:\n",
        "        return predict_tree(node.left, instance)\n",
        "    else:\n",
        "        return predict_tree(node.right, instance)\n",
        "\n",
        "# Example usage with a simplified Iris dataset\n",
        "# Features: sepal length, sepal width\n",
        "# Labels: 0 - Setosa, 1 - Versicolor\n",
        "X_iris = np.array([\n",
        "    [5.1, 3.5],\n",
        "    [4.9, 3.0],\n",
        "    [5.8, 2.6],\n",
        "    [6.7, 3.0],\n",
        "    [5.6, 2.5],\n",
        "    [5.5, 2.4],\n",
        "    [6.1, 3.0],\n",
        "    [6.2, 3.4]\n",
        "])\n",
        "\n",
        "y_iris = np.array([0, 0, 1, 1, 0, 0, 1, 1])\n",
        "\n",
        "# Build the decision tree\n",
        "iris_tree = build_decision_tree(X_iris, y_iris, max_depth=2)\n",
        "\n",
        "# Make predictions on a new instance\n",
        "new_instance = np.array([5.0, 3.2])\n",
        "prediction = predict_tree(iris_tree, new_instance)\n",
        "print(\"Predicted class:\", prediction)\n"
      ],
      "metadata": {
        "colab": {
          "base_uri": "https://localhost:8080/"
        },
        "id": "bAcyhYamZtBH",
        "outputId": "7d3b0857-f256-4e99-ad84-2d087cbed190"
      },
      "execution_count": null,
      "outputs": [
        {
          "output_type": "stream",
          "name": "stdout",
          "text": [
            "Predicted class: 0\n"
          ]
        }
      ]
    }
  ]
}