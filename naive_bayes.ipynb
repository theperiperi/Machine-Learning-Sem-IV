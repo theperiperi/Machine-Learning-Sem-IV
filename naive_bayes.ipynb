{
  "nbformat": 4,
  "nbformat_minor": 0,
  "metadata": {
    "colab": {
      "provenance": [],
      "authorship_tag": "ABX9TyNLrDqeEJ2+xrbpS3aGFxCS",
      "include_colab_link": true
    },
    "kernelspec": {
      "name": "python3",
      "display_name": "Python 3"
    },
    "language_info": {
      "name": "python"
    }
  },
  "cells": [
    {
      "cell_type": "markdown",
      "metadata": {
        "id": "view-in-github",
        "colab_type": "text"
      },
      "source": [
        "<a href=\"https://colab.research.google.com/github/theperiperi/Machine-Learning-Sem-IV/blob/main/naive_bayes.ipynb\" target=\"_parent\"><img src=\"https://colab.research.google.com/assets/colab-badge.svg\" alt=\"Open In Colab\"/></a>"
      ]
    },
    {
      "cell_type": "code",
      "source": [
        "def bayes_theorem(PA, PBGivenA, PBGivenNotA):\n",
        "    # Calculate P(Not A)\n",
        "    PNotA = 1 - PA\n",
        "    # Calculate P(B)\n",
        "    PB = (PBGivenA * PA) + (PBGivenNotA * PNotA)\n",
        "    # Calculate P(A|B)\n",
        "    PAGiven_b = (PBGivenA * PA) / PB\n",
        "    return PAGiven_b\n",
        "\n",
        "# Example: Suppose we have a medical test for a disease, and the test has a false Positive\n",
        "#rate of 5% and a true Positive rate of 98%. The prevalence of the disease in the population is 1%.\n",
        "\n",
        "Pdisease = 0.01  # P(A) - prevalence of the disease\n",
        "PPositiveGivenDisease = 0.98  # P(B|A) - true Positive rate\n",
        "PPositiveGivenNotDisease = 0.05  # P(B|Not A) - false Positive rate\n",
        "\n",
        "# Use Bayes' theorem to calculate the probability of having the disease given a Positive test result\n",
        "result = bayes_theorem(Pdisease, PPositiveGivenDisease, PPositiveGivenNotDisease)\n",
        "\n",
        "print(f\"The probability of having the disease given a Positive test result is: {result:.2%}\")\n"
      ],
      "metadata": {
        "colab": {
          "base_uri": "https://localhost:8080/"
        },
        "id": "DnSw0IK2iTdY",
        "outputId": "a5e25798-8975-43c7-e5e7-2510f3530dd2"
      },
      "execution_count": null,
      "outputs": [
        {
          "output_type": "stream",
          "name": "stdout",
          "text": [
            "The probability of having the disease given a Positive test result is: 16.53%\n"
          ]
        }
      ]
    }
  ]
}